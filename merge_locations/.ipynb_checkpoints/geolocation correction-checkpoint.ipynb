{
 "cells": [
  {
   "cell_type": "code",
   "execution_count": 23,
   "metadata": {},
   "outputs": [
    {
     "name": "stderr",
     "output_type": "stream",
     "text": [
      "D:\\Applications\\Anaconda\\lib\\site-packages\\fuzzywuzzy\\fuzz.py:11: UserWarning: Using slow pure-python SequenceMatcher. Install python-Levenshtein to remove this warning\n",
      "  warnings.warn('Using slow pure-python SequenceMatcher. Install python-Levenshtein to remove this warning')\n"
     ]
    }
   ],
   "source": [
    "import pandas as pd\n",
    "from geopy import distance as dis\n",
    "import itertools\n",
    "import numpy as np\n",
    "import re\n",
    "import fuzzywuzzy\n",
    "from fuzzywuzzy import process\n",
    "from fuzzywuzzy import fuzz"
   ]
  },
  {
   "cell_type": "code",
   "execution_count": 2,
   "metadata": {},
   "outputs": [],
   "source": [
    "def calculate_distance(p1,p2):\n",
    "    return dis.distance(p1,p2).km"
   ]
  },
  {
   "cell_type": "code",
   "execution_count": 19,
   "metadata": {},
   "outputs": [],
   "source": [
    "merged_gt=pd.read_csv(\"../data/validation_set_gt.csv\",index_col=0)"
   ]
  },
  {
   "cell_type": "code",
   "execution_count": 20,
   "metadata": {},
   "outputs": [],
   "source": [
    "def weight_address(stringA,stringB):\n",
    "    if pd.isna(stringA) or pd.isna(stringB):\n",
    "        return 1\n",
    "    else:\n",
    "        return 1/fuzz.token_set_ratio(stringA,stringB)"
   ]
  },
  {
   "cell_type": "code",
   "execution_count": 21,
   "metadata": {},
   "outputs": [],
   "source": [
    "def decision_making(x):\n",
    "    f2g=(calculate_distance((x[\"fb_latitude\"],x[\"fb_longitude\"]),(x[\"Gmap_lat\"],x['Gmap_long']))*weight_address(x['single_line_address'],x['Gmaps_place_address']),x[\"Gmaps_place_address\"],x[\"Gmap_lat\"],x['Gmap_long'])\n",
    "    w2g=(calculate_distance((x[\"web_lat\"],x[\"web_lng\"]),(x[\"Gmap_lat\"],x['Gmap_long']))*weight_address(x['web_address'],x['Gmaps_place_address']),x['Gmaps_place_address'],x[\"Gmap_lat\"],x['Gmap_long'])\n",
    "    f2w=(calculate_distance((x[\"fb_latitude\"],x[\"fb_longitude\"]),(x[\"web_lat\"],x[\"web_lng\"]))*weight_address(x['single_line_address'],x['web_address']),x['single_line_address'] if pd.notna(x['single_line_address']) else x['web_address'],x[\"fb_latitude\"],x[\"fb_longitude\"]) \n",
    "    min_dis=sorted([f2g,w2g,f2w], key=lambda tup: tup[0])[0]\n",
    "    return min_dis"
   ]
  },
  {
   "cell_type": "code",
   "execution_count": 24,
   "metadata": {},
   "outputs": [],
   "source": [
    "pd.concat([merged_gt,pd.DataFrame(merged_gt.apply(lambda x:decision_making(x),axis=1).tolist(),columns=[\"min_dist\",'finall_address',\"final_lat\",\"final_lng\"])],axis=1).to_csv(\"../data/final_gt.csv\")"
   ]
  },
  {
   "cell_type": "code",
   "execution_count": null,
   "metadata": {},
   "outputs": [],
   "source": []
  }
 ],
 "metadata": {
  "kernelspec": {
   "display_name": "Python 3",
   "language": "python",
   "name": "python3"
  },
  "language_info": {
   "codemirror_mode": {
    "name": "ipython",
    "version": 3
   },
   "file_extension": ".py",
   "mimetype": "text/x-python",
   "name": "python",
   "nbconvert_exporter": "python",
   "pygments_lexer": "ipython3",
   "version": "3.8.3"
  }
 },
 "nbformat": 4,
 "nbformat_minor": 2
}
